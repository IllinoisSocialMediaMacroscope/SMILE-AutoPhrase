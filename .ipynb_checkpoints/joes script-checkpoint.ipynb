{
 "cells": [
  {
   "cell_type": "code",
   "execution_count": 212,
   "metadata": {},
   "outputs": [],
   "source": [
    "import pandas as pd\n",
    "import csv\n",
    "import os\n",
    "from chardet import detect"
   ]
  },
  {
   "cell_type": "code",
   "execution_count": 194,
   "metadata": {},
   "outputs": [],
   "source": [
    "directory = os.fsencode('data/1998/')"
   ]
  },
  {
   "cell_type": "code",
   "execution_count": 195,
   "metadata": {},
   "outputs": [],
   "source": [
    "# CSV row identifier & row holder\n",
    "row_identifier = 1\n",
    "row = ['row_id', 'filename', 'speech_text']"
   ]
  },
  {
   "cell_type": "code",
   "execution_count": 196,
   "metadata": {},
   "outputs": [
    {
     "data": {
      "text/plain": [
       "29"
      ]
     },
     "execution_count": 196,
     "metadata": {},
     "output_type": "execute_result"
    }
   ],
   "source": [
    "# Initialize CSV file and write header row\n",
    "csvFile = open('data/speeches1998.csv', 'a')\n",
    "writer = csv.writer(csvFile)\n",
    "writer.writerow(row)"
   ]
  },
  {
   "cell_type": "code",
   "execution_count": 198,
   "metadata": {},
   "outputs": [
    {
     "name": "stdout",
     "output_type": "stream",
     "text": [
      "data/1998/1998-01-16-Chairman Levitt.txt\n",
      "data/1998/1998-02-08-Chairman Levitt.txt\n",
      "data/1998/1998-02-12-Commissioner Hunt.txt\n",
      "data/1998/1998-02-27-Chairman Levitt.txt\n",
      "data/1998/1998-03-06-Chairman Levitt.txt\n",
      "data/1998/1998-03-10-Sr Assoc Chief Acct Tokar.txt\n",
      "data/1998/1998-03-12-Chairman Levitt.txt\n"
     ]
    },
    {
     "ename": "UnicodeError",
     "evalue": "UTF-16 stream does not start with BOM",
     "output_type": "error",
     "traceback": [
      "\u001b[0;31m---------------------------------------------------------------------------\u001b[0m",
      "\u001b[0;31mUnicodeError\u001b[0m                              Traceback (most recent call last)",
      "\u001b[0;32m<ipython-input-198-4b49fb59425e>\u001b[0m in \u001b[0;36m<module>\u001b[0;34m\u001b[0m\n\u001b[1;32m      4\u001b[0m     \u001b[0;32mwith\u001b[0m \u001b[0mopen\u001b[0m\u001b[0;34m(\u001b[0m\u001b[0mfullfile\u001b[0m\u001b[0;34m,\u001b[0m \u001b[0;34m'r'\u001b[0m\u001b[0;34m,\u001b[0m \u001b[0mencoding\u001b[0m \u001b[0;34m=\u001b[0m \u001b[0;34m'utf-16'\u001b[0m\u001b[0;34m,\u001b[0m\u001b[0merrors\u001b[0m\u001b[0;34m=\u001b[0m\u001b[0;34m'ignore'\u001b[0m\u001b[0;34m)\u001b[0m \u001b[0;32mas\u001b[0m \u001b[0mf\u001b[0m\u001b[0;34m:\u001b[0m\u001b[0;34m\u001b[0m\u001b[0;34m\u001b[0m\u001b[0m\n\u001b[1;32m      5\u001b[0m         \u001b[0mprint\u001b[0m\u001b[0;34m(\u001b[0m\u001b[0mfullfile\u001b[0m\u001b[0;34m)\u001b[0m\u001b[0;34m\u001b[0m\u001b[0;34m\u001b[0m\u001b[0m\n\u001b[0;32m----> 6\u001b[0;31m         \u001b[0mspeech\u001b[0m \u001b[0;34m=\u001b[0m \u001b[0mf\u001b[0m\u001b[0;34m.\u001b[0m\u001b[0mread\u001b[0m\u001b[0;34m(\u001b[0m\u001b[0;34m)\u001b[0m\u001b[0;34m.\u001b[0m\u001b[0mreplace\u001b[0m\u001b[0;34m(\u001b[0m\u001b[0;34m'\\n'\u001b[0m\u001b[0;34m,\u001b[0m \u001b[0;34m''\u001b[0m\u001b[0;34m)\u001b[0m\u001b[0;34m.\u001b[0m\u001b[0mreplace\u001b[0m\u001b[0;34m(\u001b[0m\u001b[0;34m'\\r'\u001b[0m\u001b[0;34m,\u001b[0m \u001b[0;34m''\u001b[0m\u001b[0;34m)\u001b[0m\u001b[0;34m\u001b[0m\u001b[0;34m\u001b[0m\u001b[0m\n\u001b[0m\u001b[1;32m      7\u001b[0m         \u001b[0mrow\u001b[0m \u001b[0;34m=\u001b[0m \u001b[0;34m[\u001b[0m\u001b[0mrow_identifier\u001b[0m\u001b[0;34m,\u001b[0m \u001b[0mfilename\u001b[0m\u001b[0;34m,\u001b[0m \u001b[0mspeech\u001b[0m\u001b[0;34m]\u001b[0m\u001b[0;34m\u001b[0m\u001b[0;34m\u001b[0m\u001b[0m\n\u001b[1;32m      8\u001b[0m         \u001b[0mwriter\u001b[0m\u001b[0;34m.\u001b[0m\u001b[0mwriterow\u001b[0m\u001b[0;34m(\u001b[0m\u001b[0mrow\u001b[0m\u001b[0;34m)\u001b[0m\u001b[0;34m\u001b[0m\u001b[0;34m\u001b[0m\u001b[0m\n",
      "\u001b[0;32m//anaconda3/lib/python3.7/codecs.py\u001b[0m in \u001b[0;36mdecode\u001b[0;34m(self, input, final)\u001b[0m\n\u001b[1;32m    320\u001b[0m         \u001b[0;31m# decode input (taking the buffer into account)\u001b[0m\u001b[0;34m\u001b[0m\u001b[0;34m\u001b[0m\u001b[0;34m\u001b[0m\u001b[0m\n\u001b[1;32m    321\u001b[0m         \u001b[0mdata\u001b[0m \u001b[0;34m=\u001b[0m \u001b[0mself\u001b[0m\u001b[0;34m.\u001b[0m\u001b[0mbuffer\u001b[0m \u001b[0;34m+\u001b[0m \u001b[0minput\u001b[0m\u001b[0;34m\u001b[0m\u001b[0;34m\u001b[0m\u001b[0m\n\u001b[0;32m--> 322\u001b[0;31m         \u001b[0;34m(\u001b[0m\u001b[0mresult\u001b[0m\u001b[0;34m,\u001b[0m \u001b[0mconsumed\u001b[0m\u001b[0;34m)\u001b[0m \u001b[0;34m=\u001b[0m \u001b[0mself\u001b[0m\u001b[0;34m.\u001b[0m\u001b[0m_buffer_decode\u001b[0m\u001b[0;34m(\u001b[0m\u001b[0mdata\u001b[0m\u001b[0;34m,\u001b[0m \u001b[0mself\u001b[0m\u001b[0;34m.\u001b[0m\u001b[0merrors\u001b[0m\u001b[0;34m,\u001b[0m \u001b[0mfinal\u001b[0m\u001b[0;34m)\u001b[0m\u001b[0;34m\u001b[0m\u001b[0;34m\u001b[0m\u001b[0m\n\u001b[0m\u001b[1;32m    323\u001b[0m         \u001b[0;31m# keep undecoded input until the next call\u001b[0m\u001b[0;34m\u001b[0m\u001b[0;34m\u001b[0m\u001b[0;34m\u001b[0m\u001b[0m\n\u001b[1;32m    324\u001b[0m         \u001b[0mself\u001b[0m\u001b[0;34m.\u001b[0m\u001b[0mbuffer\u001b[0m \u001b[0;34m=\u001b[0m \u001b[0mdata\u001b[0m\u001b[0;34m[\u001b[0m\u001b[0mconsumed\u001b[0m\u001b[0;34m:\u001b[0m\u001b[0;34m]\u001b[0m\u001b[0;34m\u001b[0m\u001b[0;34m\u001b[0m\u001b[0m\n",
      "\u001b[0;32m//anaconda3/lib/python3.7/encodings/utf_16.py\u001b[0m in \u001b[0;36m_buffer_decode\u001b[0;34m(self, input, errors, final)\u001b[0m\n\u001b[1;32m     65\u001b[0m                 \u001b[0mself\u001b[0m\u001b[0;34m.\u001b[0m\u001b[0mdecoder\u001b[0m \u001b[0;34m=\u001b[0m \u001b[0mcodecs\u001b[0m\u001b[0;34m.\u001b[0m\u001b[0mutf_16_be_decode\u001b[0m\u001b[0;34m\u001b[0m\u001b[0;34m\u001b[0m\u001b[0m\n\u001b[1;32m     66\u001b[0m             \u001b[0;32melif\u001b[0m \u001b[0mconsumed\u001b[0m \u001b[0;34m>=\u001b[0m \u001b[0;36m2\u001b[0m\u001b[0;34m:\u001b[0m\u001b[0;34m\u001b[0m\u001b[0;34m\u001b[0m\u001b[0m\n\u001b[0;32m---> 67\u001b[0;31m                 \u001b[0;32mraise\u001b[0m \u001b[0mUnicodeError\u001b[0m\u001b[0;34m(\u001b[0m\u001b[0;34m\"UTF-16 stream does not start with BOM\"\u001b[0m\u001b[0;34m)\u001b[0m\u001b[0;34m\u001b[0m\u001b[0;34m\u001b[0m\u001b[0m\n\u001b[0m\u001b[1;32m     68\u001b[0m             \u001b[0;32mreturn\u001b[0m \u001b[0;34m(\u001b[0m\u001b[0moutput\u001b[0m\u001b[0;34m,\u001b[0m \u001b[0mconsumed\u001b[0m\u001b[0;34m)\u001b[0m\u001b[0;34m\u001b[0m\u001b[0;34m\u001b[0m\u001b[0m\n\u001b[1;32m     69\u001b[0m         \u001b[0;32mreturn\u001b[0m \u001b[0mself\u001b[0m\u001b[0;34m.\u001b[0m\u001b[0mdecoder\u001b[0m\u001b[0;34m(\u001b[0m\u001b[0minput\u001b[0m\u001b[0;34m,\u001b[0m \u001b[0mself\u001b[0m\u001b[0;34m.\u001b[0m\u001b[0merrors\u001b[0m\u001b[0;34m,\u001b[0m \u001b[0mfinal\u001b[0m\u001b[0;34m)\u001b[0m\u001b[0;34m\u001b[0m\u001b[0;34m\u001b[0m\u001b[0m\n",
      "\u001b[0;31mUnicodeError\u001b[0m: UTF-16 stream does not start with BOM"
     ]
    }
   ],
   "source": [
    "for file in os.listdir(directory):\n",
    "    filename = os.fsdecode(file)\n",
    "    fullfile = 'data/1998/' + filename\n",
    "    with open(fullfile, 'r', encoding = 'utf-16',errors='ignore') as f:\n",
    "        print(fullfile)\n",
    "        speech = f.read().replace('\\n', '').replace('\\r', '')\n",
    "        row = [row_identifier, filename, speech]\n",
    "        writer.writerow(row)\n",
    "        row_identifier+=1\n",
    "\n",
    "csvFile.close()"
   ]
  },
  {
   "cell_type": "code",
   "execution_count": 214,
   "metadata": {},
   "outputs": [
    {
     "name": "stdout",
     "output_type": "stream",
     "text": [
      "{'encoding': 'ascii', 'confidence': 1.0, 'language': ''}\n"
     ]
    }
   ],
   "source": [
    "with open('data/1998/1998-03-12-Chairman Levitt.txt', 'r', encoding=\"ascii\") as ef:\n",
    "#     print(detect(ef.read()))"
   ]
  },
  {
   "cell_type": "code",
   "execution_count": 211,
   "metadata": {},
   "outputs": [
    {
     "data": {
      "text/plain": [
       "'     Thank you for your warm welcome.  I\\'m very pleased tojoin you here in New Orleans, for the 10th annual CorporateLaw Institute at Tulane.  For the past decade, thisconference has brought together some of the finest minds incorporate law.  Your discussions make a real difference inthe way legal professionals advise America\\'s companies.     Just think of how far our nation has come since 1988,when you began convening this institute.  In 1988, ourmarkets were struggling to recover from the sudden break ofthe previous October.  Now, our markets are setting all-timerecords.  In 1988, pundits were warning that America\\'sconsumer-driven marketplace was no match for Asia\\'sgovernment-guided economies. Now, the American market isrecognized as  the most resilient in the world   -- whileAsia suffers from the flaws of its \"\"crony capitalism.\"\"     In 1988, skeptics were claiming that America wouldnever get its economic house in order.  Now -- as we achievea balanced federal budget -- we have created the basis for astrong, sustainable expansion.  It\\'s a record we can all beproud of.  Our nation\\'s success is driven by the creativityof our corporations and our markets.  As we confront theintense  demands of the Information Age, American businesscontinues to show great leadership in an area that iscrucial to the integrity of our marketplace:  responsivecorporate governance.     Thanks to the swift flow of reliable information,corporate decision-making has become more accountable to thetrue owners of every company:  the shareholders.  Over thelast two decades, our companies have become more open.Boards are now armed with the information they need to makekey decisions and to monitor the performance of corporatemanagers.  Shareholders are now better able to holdcorporate directors and officers accountable for theiractions.     At the Commission, we have carefully tracked thesetrends.  Yet corporate governance has not generally been asubject at the top of my agenda.  During my almost-fiveyears at the Commission, I have only rarely addressed thisissue.  But don\\'t mistake my soft-spokenness for a lack ofinterest.  In fact, before I came to the Commission, I spenta large part of my career on and around corporate boards.     I was reluctant to discuss this issue at great lengthfor a simple reason:  I was not fully persuaded that theCommission had any relevant administrative expertise tocontribute.  Much of the corporate-governance debate todayfocuses on questions of form and abstract principle.  But Ihave always strongly felt that these issues would not besolved by a \"\"one size fits all\"\" solution.     I tend to agree with a point made in the BusinessRoundtable\\'s recent Statement on Corporate Governance.  \"\"Thesubstance of good corporate governance is more importantthan its form,\"\" the Roundtable said.  \"\"Adoption of a set ofrules . . . is not a substitute for -- and does not itselfassure --good corporate governance.\"\"  In leaving this debatemostly to others, however, I always strongly agreed with abasic principle -- that a board acts as a fiduciary onbehalf of a company\\'s shareholders.     In the words of Justice Horsey of the Delaware SupremeCourt, in the seminal Van Gorkom case:          A director\\'s . . . fulfillment of the fiduciary          function requires more than the mere absence of          bad faith or fraud.  Representation of the          financial interests of others imposes on a          director an affirmative duty to protect those          interests and to proceed with a critical eye.     Some of the most significant contributions to this areaof the law were made by participants in this conference --Justice Moore  (who, I note, was in the majority in the VanGorkom decision);  Chancellors Allen and Chandler; and ViceChancellor Jacobs.  As members of the Delaware judiciary,they established -- through the persuasiveness of theirarguments -- that directors are the representatives ofshareholders.     Lately, I have become increasingly convinced that theCommission can be, and should be, more outspoken in thisarea.  This is especially important in discussing the linkbetween a company\\'s directors and its corporate reportingand information systems.  And I have been struck by anotherfactor, too.  There has been a great deal of surprise,within the corporate community, over several recent judicialopinions and administrative actions at the S.E.C.     I had thought that these decisions were just commonsense.  So I may need to clarify where I stand, and why.  Myremarks this afternoon are focused on one aspect ofcorporate governance:  the crucial role of boards ofdirectors as representatives of the shareholders -- and forthe shareholders\\' rights to full and fair disclosure.  To beeffective advocates, boards must assure themselves thatdirectors have full access to the information they need inorder to oversee the conduct of business.     And, when necessary, boards must assert theirresponsibility to take swift and decisive action.  In thisinformation-driven age, the director\\'s responsibilities havebecome more complex.  But the director\\'s role rests on anold-fashioned value:  integrity.  Integrity of character.Integrity of information.  Integrity of auditing andcompliance systems.  And, above all, integrity of mission.     The director has a legal duty and a moral mandate:  Thedirector is the shareholder\\'s representative.  In recentyears, we have seen too many examples of companies whoseboards could have -- and should have  -- been doing betterjobs.  There are too many boards that overlook more thanthey oversee.  Too many that substitute CEO directives forindependent initiative.  Too many that are re-active insteadof  pro-active.     Such boards do a disservice to their companies -- andthey do a disservice to shareholders.  Chancellor Allen\\'srecent opinion in the Caremark case helps illuminate thebroader issues in this debate.  Some of Caremark\\'sexecutives illegally paid Medicare and Medicaid patient-referral fees to other health-care providers.   In settlingvarious criminal charges and lawsuits, the company paidabout $250 million in reimbursements and penalties.  Some ofthe company\\'s shareholders sued, claiming that Caremark\\'sboard failed to oversee management.     In his opinion, Chancellor Allen -- in the context ofapproving a settlement -- suggested that the Caremark boardof directors would have been free from any liability.  Thatwas because they had exercised an appropriate level ofoversight.  He wrote:  \"\"I am of the view that a director\\'sobligation includes an attempt -- in good faith -- to assurethat a corporate information and reporting system, which theboard concludes is adequate, exists.\"\"     Chancellor Allen\\'s reasoning was based on a fact thatseems quite clear:  Relevant and timely information is anessential element in satisfying a board\\'s supervisory andmonitoring function.  From the hue and cry that followed,you might have thought that the ground had shifted beneaththe feet of Corporate America.  Mountains of law-reviewarticles were dutifully written.  Lawyers dispatched urgentletters, warning board members of this latest exposure toliability.     Was I surprised by this reaction?  Quite frankly:  Yes.I had thought that, by now, we all recognized the trend.We\\'re all aware of corporations that have fallen on hardtimes, or at least found themselves in serious legaldifficulties.  We\\'re all aware of cases in which one canfairly ask:  Where was the board?  What kind of tone didthey set at the top?  Were they an active, thoughtful groupthat exercised prudent oversight?  Or were they a passive,rubber-stamp of a board -- with directors who never pursueda tough question and never rejected an easy answer?     When a corporation finds itself in trouble, it oftenbecomes clear that the board didn\\'t fully discharge itsresponsibilities.  What is obvious in hindsight, can beavoided through foresight. In practice, this simply meansthat boards must be equipped with an effective system tomonitor management.  But directors can\\'t stop there.  Ifthey have reason to know something doesn\\'t seem right -- orif the red flags are flying -- they cannot avert their gaze.     A case brought by the Commission late last yearillustrates my point.  In that case -- concerning W.R. Grace-- some of the officers and directors failed to fulfilltheir responsibilities to investors under the securitieslaws.  On two points, they did not satisfy their duty ofdisclosure.  The former Chairman and CEO of W.R. Grace hadnegotiated a retirement package that included some generousperquisites -- including the use of a corporate jet and acompany-owned apartment.  The perks were valued, at onetime, at $3.6 million. W.R. Grace was also negotiating tosell a small subsidiary to the ex-Chairman\\'s son.     It\\'s not as if the directors were in the dark.  Onemember of the board of directors led the negotiations forthe perks.  Another was aware of the negotiations for thesale.  From an S.E.C. perspective, the problem was not withthe substance of the transactions. The problem was: No onetold the shareholders much about them.  They were not fullydisclosed or described, as the law required.  The company\\'sSEC filings contained only the briefest and most obscuredescription of the perks.  Moreover, the Company didn\\'t evenbother to disclose the proposed sale to the ex-Chairman\\'sson.     In deciding this case, the Commission determined thatnot only the company, but several of W.R. Grace\\'s directors,bore responsibility for these failures.  Each of thosedirectors knew about the perks or the proposed sale.  Eachof them should have known that such sensitive matters wouldraise a red flag for shareholders.  Each of them wasfamiliar with the process by which Grace\\'s lawyers gatheredinformation.  Each of them had reason to know that thelawyers were not fully informed on these matters.  And eachof them could have brought these matters to the attention ofthe lawyers preparing the disclosure.  Each of them couldhave asked why those matters had not been fully disclosed.     In the aftermath of our decision, I was again surprisedby the strength of the reaction.  Many lawyers -- includingone of my colleagues, Commissioner Wallman -- interpretedthe SEC\\'s action to imply an extension of the board\\'sresponsibilities in overseeing a company\\'s disclosuresystem.  Many also interpreted the action to imply thatdirectors could not rely on their lawyers\\' counsel.  Simplyput, those arguments are incorrect.     Neither my colleagues nor I would ever suggest thatdirectors cannot reasonably rely on a corporation\\'s internalprocesses for preparing disclosure in the ordinary course ofbusiness.  We also do not intend to suggest that directorscannot reasonably rely on the corporation\\'s lawyers toadvise them on what must be disclosed.  But if this casedoes assert a principle, it is this:  When corporatedirectors have reason to know -- because of their positionsand expertise -- that important information is not beingdisclosed, it is their responsibility to ask the basicquestion: \"\"Why not?\"\"     Moreover, a director cannot rely on counsel\\'s advice ifhe or she has reason to know that the counsel is not fullyinformed.  For financial reporting issues, another group ofdirectors should be asking hard questions, too -- namely,the audit committee.  These committees, in their specialrole, must help the board fulfill its oversightresponsibilities in such areas as  financial reporting andinternal controls.  They also are the primary link betweenthe directors and a company\\'s outside auditors.     Many of you know that I feel very strongly about thespecial role and responsibilities of independent auditors.They are -- as the Supreme Court once said -- \"\"publicwatchdogs\"\" over Corporate America.  Yet even these watchdogsneed help in performing their vital role, and thatresponsibility belongs to the audit committee.  Those panelsgot some good advice awhile back.  The Public OversightBoard created a special committee under Don Kirk, who servedas one of the original members of the F.A.S.B.     The Kirk report -- which primarily focused on the roleof the independent auditor -- offered a common-senseapproach.  Discussing ways to ensure better financialreporting, it  emphasized that the audit committee has theresponsibility to ensure that shareholders receive relevantand reliable financial information.  In order to fulfillthat mission, the committee should question auditors notonly on the acceptability of a company\\'s financialreporting, but on its quality as well.  I think that makesabundant sense.     In suggesting such a qualitative assessment, the Kirkreport returned to the basics of the directors\\' oversightfunction:  They must always be ready to ask simple -- butsometimes unsettling -- questions.  These directors need toask whether management\\'s approach to a particular accountingprinciple, estimate or financial disclosure practice isaggressive or conservative, compared to best practice.Directors need to understand the quality of financialreporting and disclosure practices, so that they caninfluence those practices when -- in their judgment  -- theyfall short of meeting investors\\' needs.     Management and the outside auditor may find thesequestions inconvenient.  They may even be embarrassing.  Butthat\\'s a small price to pay, if it ensures the properoversight of the financial reporting process.  After all:Expertise, diligence, and accountability are the necessaryingredients for successful oversight.  No matter howdetailed the rules and regulations may be, they only providea framework for making the best professional judgments.  Andthat task belongs to a vigilant board.     In addressing these issues, I appreciate that boardsface inherent limitations on what they are able to do.  I\\'vebeen a director, and I know what heavy burdens they bear.Directors must review and approve mergers, acquisitions, andcombinations that are more intricate than ever before.  Theymust answer the demands of institutional investors, who arevocal and vigilant in defending their interests.  They musthire and fire managers, and must set their compensationbased on targets that constantly change.     They are expected to weigh in on strategic plans gearedtoward markets that can shift -- or evaporate -- overnight.And, on top of all these responsibilities, courts andregulators -- the S.E.C. included -- are scrutinizingdirectors more closely than ever before.  The boardincreasingly is expected not just to advise managers, butalso to monitor them.  There is still the traditionalpresumption of business regularity.  But we must recognizethat the presumption was never absolute.  Directors havealways had to act in an informed, good-faith effort toadvance the good of the corporation.  Today, thatincreasingly means they must act to prevent managementwrongdoing.     I can see how, sometimes, the job might feel like it isan impossible one.  And I emphasize that we must notunfairly second-guess directors -- particularly in thebright light of hindsight -- and make them unreasonablyvulnerable.  Yet directors are in an ideal position tomonitor new developments -- and to address problems earlier,rather than after serious injury to the corporation hasoccurred.     I\\'ve given you my views on the importance for directorsto stay informed, stay involved, and stay on the alert.  Nowlet me offer you some final ideas, to take with you whenyou\\'ve left this conference.  Every time directors sit downat the boardroom table, thousands of shareholders sit downalongside them.  So we must have a system that givesdirectors timely information, to help them represent thoseshareholders.     Every time directors ask a tough disclosure orfinancial question, thousands of shareholders will benefit.So we must have an atmosphere that encourages directors tobe active -- to avoid the trap of believing that they must\"\"go along to get along.\"\"  Every time directors stand up forwhat\\'s right -- even if they think they might be alone --thousands of shareholders stand with them.  Directors mustremember:  Protecting the interests of shareholders is thegoal of corporate governance.     The task of upholding the integrity of our entirecorporate system begins with the work of directors.  Whenour system lives up to the highest standard of integrity, itinspires deeper public faith that our marketplace is sound.Maintaining the integrity of our system is the director\\'slegal mandate -- and it must become a fundamental part ofevery director\\'s mission.  Thank you very much.\"'"
      ]
     },
     "execution_count": 211,
     "metadata": {},
     "output_type": "execute_result"
    }
   ],
   "source": [
    "lines.replace('\\n','')"
   ]
  },
  {
   "cell_type": "code",
   "execution_count": 191,
   "metadata": {},
   "outputs": [
    {
     "name": "stdout",
     "output_type": "stream",
     "text": [
      "['row_id', 'filename', 'speech_text']\n"
     ]
    },
    {
     "ename": "Error",
     "evalue": "line contains NULL byte",
     "output_type": "error",
     "traceback": [
      "\u001b[0;31m---------------------------------------------------------------------------\u001b[0m",
      "\u001b[0;31mError\u001b[0m                                     Traceback (most recent call last)",
      "\u001b[0;32m<ipython-input-191-42712b2dad81>\u001b[0m in \u001b[0;36m<module>\u001b[0;34m\u001b[0m\n\u001b[1;32m      2\u001b[0m \u001b[0;32mwith\u001b[0m \u001b[0mopen\u001b[0m\u001b[0;34m(\u001b[0m\u001b[0;34m'data/speeches1998.csv'\u001b[0m\u001b[0;34m,\u001b[0m\u001b[0;34m'r'\u001b[0m\u001b[0;34m,\u001b[0m \u001b[0mencoding\u001b[0m\u001b[0;34m=\u001b[0m\u001b[0;34m'ISO-8859-1'\u001b[0m\u001b[0;34m,\u001b[0m \u001b[0merrors\u001b[0m\u001b[0;34m=\u001b[0m\u001b[0;34m\"ignore\"\u001b[0m\u001b[0;34m)\u001b[0m \u001b[0;32mas\u001b[0m \u001b[0mf\u001b[0m\u001b[0;34m:\u001b[0m\u001b[0;34m\u001b[0m\u001b[0;34m\u001b[0m\u001b[0m\n\u001b[1;32m      3\u001b[0m     \u001b[0mreader\u001b[0m \u001b[0;34m=\u001b[0m \u001b[0mcsv\u001b[0m\u001b[0;34m.\u001b[0m\u001b[0mreader\u001b[0m\u001b[0;34m(\u001b[0m\u001b[0mf\u001b[0m\u001b[0;34m)\u001b[0m\u001b[0;34m\u001b[0m\u001b[0;34m\u001b[0m\u001b[0m\n\u001b[0;32m----> 4\u001b[0;31m     \u001b[0;32mfor\u001b[0m \u001b[0mrow\u001b[0m \u001b[0;32min\u001b[0m \u001b[0mreader\u001b[0m\u001b[0;34m:\u001b[0m\u001b[0;34m\u001b[0m\u001b[0;34m\u001b[0m\u001b[0m\n\u001b[0m\u001b[1;32m      5\u001b[0m         \u001b[0mprint\u001b[0m\u001b[0;34m(\u001b[0m\u001b[0mrow\u001b[0m\u001b[0;34m)\u001b[0m\u001b[0;34m\u001b[0m\u001b[0;34m\u001b[0m\u001b[0m\n\u001b[1;32m      6\u001b[0m         \u001b[0mArray\u001b[0m\u001b[0;34m.\u001b[0m\u001b[0mappend\u001b[0m\u001b[0;34m(\u001b[0m\u001b[0mrow\u001b[0m\u001b[0;34m)\u001b[0m\u001b[0;34m\u001b[0m\u001b[0;34m\u001b[0m\u001b[0m\n",
      "\u001b[0;31mError\u001b[0m: line contains NULL byte"
     ]
    }
   ],
   "source": [
    "Array = []\n",
    "with open('data/speeches1998.csv','r', encoding='ISO-8859-1', errors=\"ignore\") as f:\n",
    "    reader = csv.reader(f)\n",
    "    for row in reader:\n",
    "        print(row)\n",
    "        Array.append(row)\n",
    "Array"
   ]
  },
  {
   "cell_type": "code",
   "execution_count": null,
   "metadata": {},
   "outputs": [],
   "source": []
  },
  {
   "cell_type": "code",
   "execution_count": null,
   "metadata": {},
   "outputs": [],
   "source": []
  }
 ],
 "metadata": {
  "kernelspec": {
   "display_name": "Python 3",
   "language": "python",
   "name": "python3"
  },
  "language_info": {
   "codemirror_mode": {
    "name": "ipython",
    "version": 3
   },
   "file_extension": ".py",
   "mimetype": "text/x-python",
   "name": "python",
   "nbconvert_exporter": "python",
   "pygments_lexer": "ipython3",
   "version": "3.7.3"
  }
 },
 "nbformat": 4,
 "nbformat_minor": 2
}
