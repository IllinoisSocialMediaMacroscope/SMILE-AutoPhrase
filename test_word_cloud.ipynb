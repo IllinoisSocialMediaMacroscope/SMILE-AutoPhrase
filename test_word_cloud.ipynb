{
 "cells": [
  {
   "cell_type": "code",
   "execution_count": null,
   "metadata": {},
   "outputs": [],
   "source": [
    "import pandas as pd\n",
    "import plotly as py\n",
    "import plotly.graph_objs as go\n",
    "from plotly.offline import plot\n",
    "import random\n",
    "import numpy as np\n",
    "import os\n",
    "import csv\n",
    "import codecs"
   ]
  },
  {
   "cell_type": "raw",
   "metadata": {},
   "source": [
    "Array = []\n",
    "column = 'text'\n",
    "try:\n",
    "    with open('data/hongkong.csv','r',encoding=\"utf-8\", errors=\"ignore\") as f:\n",
    "        reader = csv.reader(f)\n",
    "        try:\n",
    "            for row in reader:\n",
    "                Array.append(row)\n",
    "        except Exception as e:\n",
    "            pass\n",
    "except:\n",
    "    with open('data/hongkong.csv','r',encoding=\"ISO-8859-1\", errors=\"ignore\") as f:\n",
    "        reader = csv.reader(f)\n",
    "        try:\n",
    "            for row in reader:\n",
    "                Array.append(row)\n",
    "        except Exception as e:\n",
    "            pass\n",
    "\n",
    "df = pd.DataFrame(Array[1:],columns=Array[0])\n",
    "df[df[column]!=''][column].dropna().astype('str').to_csv('data/raw_train.txt', index=False)"
   ]
  },
  {
   "cell_type": "code",
   "execution_count": null,
   "metadata": {},
   "outputs": [],
   "source": [
    "phrases = pd.read_csv('./results/AutoPhrase.txt', delimiter='\\t', header=None,\n",
    "                          names=['ranking_score', 'phrases'])"
   ]
  },
  {
   "cell_type": "code",
   "execution_count": null,
   "metadata": {},
   "outputs": [],
   "source": [
    "phrases.head()"
   ]
  },
  {
   "cell_type": "code",
   "execution_count": null,
   "metadata": {},
   "outputs": [],
   "source": [
    "phrases = phrases[phrases.ranking_score >= 0.8]['phrases'].to_list()"
   ]
  },
  {
   "cell_type": "code",
   "execution_count": null,
   "metadata": {},
   "outputs": [],
   "source": [
    "phrase_count = [ 0 for p in phrases]\n",
    "with open(\"data/raw_train.txt\", encoding='utf-8', errors='ignore') as f:\n",
    "    lines = f.readlines()\n",
    "    for row in lines:\n",
    "        for i in range(len(phrases)):\n",
    "            if str(row).lower().find(phrases[i]) > 0:\n",
    "                phrase_count[i] += 1\n",
    "phrase_count.sort(reverse = True)"
   ]
  },
  {
   "cell_type": "code",
   "execution_count": null,
   "metadata": {},
   "outputs": [],
   "source": [
    "phrase_count"
   ]
  },
  {
   "cell_type": "code",
   "execution_count": null,
   "metadata": {
    "scrolled": true
   },
   "outputs": [],
   "source": [
    "from word_cloud import word_cloud\n",
    "word_cloud(phrases, phrase_count)"
   ]
  },
  {
   "cell_type": "code",
   "execution_count": null,
   "metadata": {},
   "outputs": [],
   "source": []
  },
  {
   "cell_type": "code",
   "execution_count": null,
   "metadata": {},
   "outputs": [],
   "source": []
  },
  {
   "cell_type": "code",
   "execution_count": null,
   "metadata": {},
   "outputs": [],
   "source": []
  }
 ],
 "metadata": {
  "kernelspec": {
   "display_name": "Python 3",
   "language": "python",
   "name": "python3"
  },
  "language_info": {
   "codemirror_mode": {
    "name": "ipython",
    "version": 3
   },
   "file_extension": ".py",
   "mimetype": "text/x-python",
   "name": "python",
   "nbconvert_exporter": "python",
   "pygments_lexer": "ipython3",
   "version": "3.7.3"
  }
 },
 "nbformat": 4,
 "nbformat_minor": 2
}
